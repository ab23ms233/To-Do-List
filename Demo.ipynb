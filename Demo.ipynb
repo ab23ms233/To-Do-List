{
 "cells": [
  {
   "cell_type": "markdown",
   "id": "88143ea6",
   "metadata": {},
   "source": [
    "Importing necessary libraries"
   ]
  },
  {
   "cell_type": "code",
   "execution_count": 6,
   "id": "024da75d",
   "metadata": {},
   "outputs": [],
   "source": [
    "from datetime import datetime, date, time\n",
    "from Class_ToDo_List import ToDo_List\n",
    "import pandas as pd"
   ]
  },
  {
   "cell_type": "markdown",
   "id": "a66a17b2",
   "metadata": {},
   "source": [
    "Test tasks with erraneous attributes/values for checking add_task function"
   ]
  },
  {
   "cell_type": "code",
   "execution_count": 3,
   "id": "e9c6f271",
   "metadata": {},
   "outputs": [],
   "source": [
    "test_tasks = [\n",
    "\n",
    "    # 1. id as string instead of int\n",
    "    {\n",
    "        \"id\": \"001\",  # ❌ should be int\n",
    "        \"title\": \"Submit report\",\n",
    "        \"due_date\": date(2025, 7, 10),\n",
    "        \"due_time\": time(15, 0),\n",
    "        \"priority\": \"high\",\n",
    "        \"created_at\": datetime.now(),\n",
    "        \"completed\": False\n",
    "    },\n",
    "\n",
    "    # 2. title as int instead of str\n",
    "    {\n",
    "        \"id\": 2,\n",
    "        \"title\": 12345,  # ❌ should be str\n",
    "        \"due_date\": date(2025, 7, 11),\n",
    "        \"due_time\": time(10, 30),\n",
    "        \"priority\": \"moderate\",\n",
    "        \"created_at\": datetime.now(),\n",
    "        \"completed\": False\n",
    "    },\n",
    "\n",
    "    # 3. due_date as string\n",
    "    {\n",
    "        \"id\": 3,\n",
    "        \"title\": \"Team meeting\",\n",
    "        \"due_date\": \"2025-07-12\",  # ❌ should be date\n",
    "        \"due_time\": time(9, 0),\n",
    "        \"priority\": \"low\",\n",
    "        \"created_at\": datetime.now(),\n",
    "        \"completed\": True\n",
    "    },\n",
    "\n",
    "    # 4. due_time as datetime instead of time\n",
    "    {\n",
    "        \"id\": 4,\n",
    "        \"title\": \"Call client\",\n",
    "        \"due_date\": date(2025, 7, 13),\n",
    "        \"due_time\": datetime.now(),  # ❌ should be time\n",
    "        \"priority\": \"high\",\n",
    "        \"created_at\": datetime.now(),\n",
    "        \"completed\": False\n",
    "    },\n",
    "\n",
    "    # 5. priority as integer instead of str\n",
    "    {\n",
    "        \"id\": 5,\n",
    "        \"title\": \"Review PR\",\n",
    "        \"due_date\": date(2025, 7, 14),\n",
    "        \"due_time\": time(13, 45),\n",
    "        \"priority\": 1,  # ❌ should be str\n",
    "        \"created_at\": datetime.now(),\n",
    "        \"completed\": True\n",
    "    },\n",
    "\n",
    "    # 6. created_at as string\n",
    "    {\n",
    "        \"id\": 6,\n",
    "        \"title\": \"Write documentation\",\n",
    "        \"due_date\": date(2025, 7, 15),\n",
    "        \"due_time\": time(11, 0),\n",
    "        \"priority\": \"moderate\",\n",
    "        \"created_at\": \"2025-07-01 09:00\",  # ❌ should be datetime\n",
    "        \"completed\": False\n",
    "    },\n",
    "\n",
    "    # 7. completed as string instead of bool\n",
    "    {\n",
    "        \"id\": 7,\n",
    "        \"title\": \"Plan sprint\",\n",
    "        \"due_date\": date(2025, 7, 16),\n",
    "        \"due_time\": time(16, 0),\n",
    "        \"priority\": \"low\",\n",
    "        \"created_at\": datetime.now(),\n",
    "        \"completed\": \"no\"  # ❌ should be bool\n",
    "    },\n",
    "\n",
    "    # 8. Completely missing one field\n",
    "    {\n",
    "        \"id\": 8,\n",
    "        \"title\": \"Check emails\",\n",
    "        \"due_date\": date(2025, 7, 17),\n",
    "        \"due_time\": time(10, 15),\n",
    "        \"priority\": \"moderate\",\n",
    "        \"created_at\": datetime.now()\n",
    "        # ❌ missing \"completed\"\n",
    "    },\n",
    "\n",
    "    # 9. Extra unexpected field\n",
    "    {\n",
    "        \"id\": 9,\n",
    "        \"title\": \"Deploy update\",\n",
    "        \"due_date\": date(2025, 7, 18),\n",
    "        \"due_time\": time(17, 30),\n",
    "        \"priority\": \"high\",\n",
    "        \"created_at\": datetime.now(),\n",
    "        \"completed\": True,\n",
    "        \"status\": \"done\"  # ❌ unexpected key\n",
    "    },\n",
    "\n",
    "    # 10. All fields are wrong types\n",
    "    {\n",
    "        \"id\": \"ten\",               # ❌\n",
    "        \"title\": 999,               # ❌\n",
    "        \"due_date\": \"next Monday\",  # ❌\n",
    "        \"due_time\": \"5pm\",          # ❌\n",
    "        \"priority\": None,           # ❌\n",
    "        \"created_at\": 20250706,     # ❌\n",
    "        \"completed\": \"maybe\"        # ❌\n",
    "    }\n",
    "\n",
    "]\n"
   ]
  },
  {
   "cell_type": "code",
   "execution_count": 4,
   "id": "1c9a4205",
   "metadata": {},
   "outputs": [
    {
     "name": "stdout",
     "output_type": "stream",
     "text": [
      "2\n",
      "4\n",
      "5\n",
      "7\n",
      "8\n",
      "9\n",
      "ten\n"
     ]
    }
   ],
   "source": [
    "todo_List = ToDo_List([])\n",
    "\n",
    "for task in test_tasks:\n",
    "    # if task[\"id\"] == 4:\n",
    "    #     todo_List.add_task(task)\n",
    "    #     continue\n",
    "\n",
    "    try:\n",
    "        todo_List.add_task(task)\n",
    "    except Exception:\n",
    "        print(task[\"id\"])"
   ]
  },
  {
   "cell_type": "code",
   "execution_count": 5,
   "id": "64ed1006",
   "metadata": {},
   "outputs": [
    {
     "data": {
      "application/vnd.microsoft.datawrangler.viewer.v0+json": {
       "columns": [
        {
         "name": "index",
         "rawType": "int64",
         "type": "integer"
        },
        {
         "name": "id",
         "rawType": "int64",
         "type": "integer"
        },
        {
         "name": "title",
         "rawType": "object",
         "type": "string"
        },
        {
         "name": "due_date",
         "rawType": "object",
         "type": "unknown"
        },
        {
         "name": "due_time",
         "rawType": "object",
         "type": "unknown"
        },
        {
         "name": "priority",
         "rawType": "object",
         "type": "string"
        },
        {
         "name": "created_at",
         "rawType": "datetime64[ns]",
         "type": "datetime"
        },
        {
         "name": "completed",
         "rawType": "bool",
         "type": "boolean"
        }
       ],
       "ref": "d2a60e7e-38f7-40dc-a68b-c0c4c5b9e934",
       "rows": [
        [
         "0",
         "1",
         "Submit report",
         "2025-07-10",
         "15:00:00",
         "high",
         "2025-07-09 22:33:09.681387",
         "False"
        ],
        [
         "1",
         "3",
         "Team meeting",
         "2025-07-12",
         "09:00:00",
         "low",
         "2025-07-09 22:33:09.681387",
         "True"
        ],
        [
         "2",
         "6",
         "Write documentation",
         "2025-07-15",
         "11:00:00",
         "moderate",
         "2025-07-01 09:00:00",
         "False"
        ]
       ],
       "shape": {
        "columns": 7,
        "rows": 3
       }
      },
      "text/html": [
       "<div>\n",
       "<style scoped>\n",
       "    .dataframe tbody tr th:only-of-type {\n",
       "        vertical-align: middle;\n",
       "    }\n",
       "\n",
       "    .dataframe tbody tr th {\n",
       "        vertical-align: top;\n",
       "    }\n",
       "\n",
       "    .dataframe thead th {\n",
       "        text-align: right;\n",
       "    }\n",
       "</style>\n",
       "<table border=\"1\" class=\"dataframe\">\n",
       "  <thead>\n",
       "    <tr style=\"text-align: right;\">\n",
       "      <th></th>\n",
       "      <th>id</th>\n",
       "      <th>title</th>\n",
       "      <th>due_date</th>\n",
       "      <th>due_time</th>\n",
       "      <th>priority</th>\n",
       "      <th>created_at</th>\n",
       "      <th>completed</th>\n",
       "    </tr>\n",
       "  </thead>\n",
       "  <tbody>\n",
       "    <tr>\n",
       "      <th>0</th>\n",
       "      <td>1</td>\n",
       "      <td>Submit report</td>\n",
       "      <td>2025-07-10</td>\n",
       "      <td>15:00:00</td>\n",
       "      <td>high</td>\n",
       "      <td>2025-07-09 22:33:09.681387</td>\n",
       "      <td>False</td>\n",
       "    </tr>\n",
       "    <tr>\n",
       "      <th>1</th>\n",
       "      <td>3</td>\n",
       "      <td>Team meeting</td>\n",
       "      <td>2025-07-12</td>\n",
       "      <td>09:00:00</td>\n",
       "      <td>low</td>\n",
       "      <td>2025-07-09 22:33:09.681387</td>\n",
       "      <td>True</td>\n",
       "    </tr>\n",
       "    <tr>\n",
       "      <th>2</th>\n",
       "      <td>6</td>\n",
       "      <td>Write documentation</td>\n",
       "      <td>2025-07-15</td>\n",
       "      <td>11:00:00</td>\n",
       "      <td>moderate</td>\n",
       "      <td>2025-07-01 09:00:00.000000</td>\n",
       "      <td>False</td>\n",
       "    </tr>\n",
       "  </tbody>\n",
       "</table>\n",
       "</div>"
      ],
      "text/plain": [
       "   id                title    due_date  due_time  priority  \\\n",
       "0   1        Submit report  2025-07-10  15:00:00      high   \n",
       "1   3         Team meeting  2025-07-12  09:00:00       low   \n",
       "2   6  Write documentation  2025-07-15  11:00:00  moderate   \n",
       "\n",
       "                  created_at  completed  \n",
       "0 2025-07-09 22:33:09.681387      False  \n",
       "1 2025-07-09 22:33:09.681387       True  \n",
       "2 2025-07-01 09:00:00.000000      False  "
      ]
     },
     "execution_count": 5,
     "metadata": {},
     "output_type": "execute_result"
    }
   ],
   "source": [
    "todo_List.display_tasks()"
   ]
  },
  {
   "cell_type": "markdown",
   "id": "8fbe17a4",
   "metadata": {},
   "source": [
    "Valid tasks for adding to tasklist"
   ]
  },
  {
   "cell_type": "code",
   "execution_count": 6,
   "id": "52725ff1",
   "metadata": {},
   "outputs": [],
   "source": [
    "valid_tasks = [\n",
    "\n",
    "    {\n",
    "        \"id\": 1,\n",
    "        \"title\": \"Write project proposal\",\n",
    "        \"due_date\": date(2025, 7, 10),\n",
    "        \"due_time\": time(10, 0),\n",
    "        \"priority\": \"high\",\n",
    "        \"created_at\": datetime(2025, 7, 5, 9, 30),\n",
    "        \"completed\": False\n",
    "    },\n",
    "\n",
    "    {\n",
    "        \"id\": 2,\n",
    "        \"title\": \"Team meeting with manager\",\n",
    "        \"due_date\": date(2025, 7, 9),\n",
    "        \"due_time\": time(15, 30),\n",
    "        \"priority\": \"moderate\",\n",
    "        \"created_at\": datetime(2025, 7, 6, 14, 0),\n",
    "        \"completed\": True\n",
    "    },\n",
    "\n",
    "    {\n",
    "        \"id\": 3,\n",
    "        \"title\": \"Finalize budget report\",\n",
    "        \"due_date\": date(2025, 7, 12),\n",
    "        \"due_time\": time(13, 15),\n",
    "        \"priority\": \"high\",\n",
    "        \"created_at\": datetime(2025, 7, 6, 11, 45),\n",
    "        \"completed\": False\n",
    "    },\n",
    "\n",
    "    {\n",
    "        \"id\": 4,\n",
    "        \"title\": \"Reply to client emails\",\n",
    "        \"due_date\": date(2025, 7, 10),\n",
    "        \"due_time\": time(11, 0),\n",
    "        \"priority\": \"low\",\n",
    "        \"created_at\": datetime(2025, 7, 5, 17, 10),\n",
    "        \"completed\": True\n",
    "    },\n",
    "\n",
    "    {\n",
    "        \"id\": 5,\n",
    "        \"title\": \"Submit timesheet\",\n",
    "        \"due_date\": date(2025, 7, 11),\n",
    "        \"due_time\": time(17, 45),\n",
    "        \"priority\": \"moderate\",\n",
    "        \"created_at\": datetime(2025, 7, 5, 8, 0),\n",
    "        \"completed\": False\n",
    "    }\n",
    "]\n"
   ]
  },
  {
   "cell_type": "code",
   "execution_count": 7,
   "id": "ba437178",
   "metadata": {},
   "outputs": [
    {
     "data": {
      "application/vnd.microsoft.datawrangler.viewer.v0+json": {
       "columns": [
        {
         "name": "index",
         "rawType": "int64",
         "type": "integer"
        },
        {
         "name": "id",
         "rawType": "int64",
         "type": "integer"
        },
        {
         "name": "title",
         "rawType": "object",
         "type": "string"
        },
        {
         "name": "due_date",
         "rawType": "object",
         "type": "unknown"
        },
        {
         "name": "due_time",
         "rawType": "object",
         "type": "unknown"
        },
        {
         "name": "priority",
         "rawType": "object",
         "type": "string"
        },
        {
         "name": "created_at",
         "rawType": "datetime64[ns]",
         "type": "datetime"
        },
        {
         "name": "completed",
         "rawType": "bool",
         "type": "boolean"
        }
       ],
       "ref": "e0104dfe-27d8-46ca-896e-8a0901d4d639",
       "rows": [
        [
         "0",
         "1",
         "Write project proposal",
         "2025-07-10",
         "10:00:00",
         "high",
         "2025-07-05 09:30:00",
         "False"
        ],
        [
         "1",
         "2",
         "Team meeting with manager",
         "2025-07-09",
         "15:30:00",
         "moderate",
         "2025-07-06 14:00:00",
         "True"
        ],
        [
         "2",
         "3",
         "Finalize budget report",
         "2025-07-12",
         "13:15:00",
         "high",
         "2025-07-06 11:45:00",
         "False"
        ],
        [
         "3",
         "4",
         "Reply to client emails",
         "2025-07-10",
         "11:00:00",
         "low",
         "2025-07-05 17:10:00",
         "True"
        ],
        [
         "4",
         "5",
         "Submit timesheet",
         "2025-07-11",
         "17:45:00",
         "moderate",
         "2025-07-05 08:00:00",
         "False"
        ]
       ],
       "shape": {
        "columns": 7,
        "rows": 5
       }
      },
      "text/html": [
       "<div>\n",
       "<style scoped>\n",
       "    .dataframe tbody tr th:only-of-type {\n",
       "        vertical-align: middle;\n",
       "    }\n",
       "\n",
       "    .dataframe tbody tr th {\n",
       "        vertical-align: top;\n",
       "    }\n",
       "\n",
       "    .dataframe thead th {\n",
       "        text-align: right;\n",
       "    }\n",
       "</style>\n",
       "<table border=\"1\" class=\"dataframe\">\n",
       "  <thead>\n",
       "    <tr style=\"text-align: right;\">\n",
       "      <th></th>\n",
       "      <th>id</th>\n",
       "      <th>title</th>\n",
       "      <th>due_date</th>\n",
       "      <th>due_time</th>\n",
       "      <th>priority</th>\n",
       "      <th>created_at</th>\n",
       "      <th>completed</th>\n",
       "    </tr>\n",
       "  </thead>\n",
       "  <tbody>\n",
       "    <tr>\n",
       "      <th>0</th>\n",
       "      <td>1</td>\n",
       "      <td>Write project proposal</td>\n",
       "      <td>2025-07-10</td>\n",
       "      <td>10:00:00</td>\n",
       "      <td>high</td>\n",
       "      <td>2025-07-05 09:30:00</td>\n",
       "      <td>False</td>\n",
       "    </tr>\n",
       "    <tr>\n",
       "      <th>1</th>\n",
       "      <td>2</td>\n",
       "      <td>Team meeting with manager</td>\n",
       "      <td>2025-07-09</td>\n",
       "      <td>15:30:00</td>\n",
       "      <td>moderate</td>\n",
       "      <td>2025-07-06 14:00:00</td>\n",
       "      <td>True</td>\n",
       "    </tr>\n",
       "    <tr>\n",
       "      <th>2</th>\n",
       "      <td>3</td>\n",
       "      <td>Finalize budget report</td>\n",
       "      <td>2025-07-12</td>\n",
       "      <td>13:15:00</td>\n",
       "      <td>high</td>\n",
       "      <td>2025-07-06 11:45:00</td>\n",
       "      <td>False</td>\n",
       "    </tr>\n",
       "    <tr>\n",
       "      <th>3</th>\n",
       "      <td>4</td>\n",
       "      <td>Reply to client emails</td>\n",
       "      <td>2025-07-10</td>\n",
       "      <td>11:00:00</td>\n",
       "      <td>low</td>\n",
       "      <td>2025-07-05 17:10:00</td>\n",
       "      <td>True</td>\n",
       "    </tr>\n",
       "    <tr>\n",
       "      <th>4</th>\n",
       "      <td>5</td>\n",
       "      <td>Submit timesheet</td>\n",
       "      <td>2025-07-11</td>\n",
       "      <td>17:45:00</td>\n",
       "      <td>moderate</td>\n",
       "      <td>2025-07-05 08:00:00</td>\n",
       "      <td>False</td>\n",
       "    </tr>\n",
       "  </tbody>\n",
       "</table>\n",
       "</div>"
      ],
      "text/plain": [
       "   id                      title    due_date  due_time  priority  \\\n",
       "0   1     Write project proposal  2025-07-10  10:00:00      high   \n",
       "1   2  Team meeting with manager  2025-07-09  15:30:00  moderate   \n",
       "2   3     Finalize budget report  2025-07-12  13:15:00      high   \n",
       "3   4     Reply to client emails  2025-07-10  11:00:00       low   \n",
       "4   5           Submit timesheet  2025-07-11  17:45:00  moderate   \n",
       "\n",
       "           created_at  completed  \n",
       "0 2025-07-05 09:30:00      False  \n",
       "1 2025-07-06 14:00:00       True  \n",
       "2 2025-07-06 11:45:00      False  \n",
       "3 2025-07-05 17:10:00       True  \n",
       "4 2025-07-05 08:00:00      False  "
      ]
     },
     "execution_count": 7,
     "metadata": {},
     "output_type": "execute_result"
    }
   ],
   "source": [
    "todo_List = ToDo_List(valid_tasks)\n",
    "todo_List.display_tasks()"
   ]
  },
  {
   "cell_type": "markdown",
   "id": "494f4a3c",
   "metadata": {},
   "source": [
    "Test case tasks for checking modify_tasks function"
   ]
  },
  {
   "cell_type": "code",
   "execution_count": 8,
   "id": "b1d912e2",
   "metadata": {},
   "outputs": [],
   "source": [
    "test_cases = [\n",
    "\n",
    "    # ✅ Valid cases\n",
    "    [1, \"title\", \"Update documentation\"],\n",
    "    [2, \"due_date\", date(2025, 7, 10)],\n",
    "    [3, \"due_time\", time(14, 30)],\n",
    "    [4, \"priority\", \"high\"],\n",
    "\n",
    "    # 🔴 Invalid id\n",
    "    [\"1\", \"title\", \"Fix typo\"],           # id as string\n",
    "    [None, \"title\", \"Check null\"],        # id as None\n",
    "    [-5, \"priority\", \"moderate\"],         # negative id\n",
    "\n",
    "    # 🔴 Invalid attribute\n",
    "    [1, \"Title\", \"Fix capitalization\"],   # wrong case\n",
    "    [2, \"due date\", \"2025-07-10\"],        # invalid key format\n",
    "    [3, \"completed\", True],               # key not allowed\n",
    "    [4, \"\", \"low\"],                       # empty attribute\n",
    "    [5, None, \"moderate\"],                # None as attribute\n",
    "\n",
    "    # 🔴 Invalid new_value for title\n",
    "    [6, \"title\", 123],                    # non-string title\n",
    "    [7, \"title\", None],                   # None title\n",
    "\n",
    "    # 🔴 Invalid new_value for due_date\n",
    "    [3, \"due_date\", \"2025-07-10\"],        # string instead of date\n",
    "    [9, \"due_date\", datetime(2025, 7, 6)],# datetime instead of date\n",
    "    [10, \"due_date\", 20250706],           # int format\n",
    "\n",
    "    # 🔴 Invalid new_value for due_time\n",
    "    [4, \"due_time\", \"15:30\"],            # string instead of time\n",
    "    [12, \"due_time\", datetime(2025, 7, 6, 15, 30)],  # datetime object\n",
    "    [13, \"due_time\", 1530],               # int\n",
    "\n",
    "    # 🔴 Invalid new_value for priority\n",
    "    [14, \"priority\", 1],                  # int instead of str\n",
    "    [15, \"priority\", \"urgent\"],           # not in allowed values\n",
    "    [16, \"priority\", None],               # None\n",
    "\n",
    "    # 🔴 Multiple issues\n",
    "    [\"abc\", \"due_time\", \"tomorrow noon\"], # all wrong\n",
    "]\n"
   ]
  },
  {
   "cell_type": "code",
   "execution_count": 9,
   "id": "27085ddb",
   "metadata": {},
   "outputs": [
    {
     "name": "stdout",
     "output_type": "stream",
     "text": [
      "None\n",
      "-5\n",
      "1\n",
      "2\n",
      "3\n",
      "4\n",
      "5\n",
      "6\n",
      "7\n",
      "9\n",
      "10\n",
      "12\n",
      "13\n",
      "14\n",
      "15\n",
      "16\n",
      "abc\n"
     ]
    }
   ],
   "source": [
    "for task in test_cases:\n",
    "    if task[0] == \"1\":\n",
    "        todo_List.modify_task(id=task[0], attribute=task[1], new_value=task[2])\n",
    "        continue\n",
    "    try:\n",
    "        todo_List.modify_task(id=task[0], attribute=task[1], new_value=task[2])\n",
    "    except Exception:\n",
    "        print(task[0])"
   ]
  },
  {
   "cell_type": "code",
   "execution_count": 18,
   "id": "80787dd9",
   "metadata": {},
   "outputs": [
    {
     "name": "stdout",
     "output_type": "stream",
     "text": [
      "[['1', 'Read 20 pages of Manifest', '08-07-2025', 'NA', 'moderate', '07-08-2025 20:41', 'TRUE'], ['2', 'Wash Clothes', '08-07-2025', 'NA', 'high', '07-08-2025 20:41', 'TRUE'], ['3', 'Exercise', '08-07-2025', 'NA', 'high', '07-08-2025 20:42', 'TRUE'], ['5', 'Complete ToDo List Project', '08-07-2025', '22:00:00', 'high', '07-08-2025 20:43', 'FALSE'], ['6', 'Serve dinner', '07-08-2025', '21:30:00', 'moderate', '08-07-2025 20:55', 'FALSE'], ['7', 'Go to bank for submitting cheque', '07-09-2025', '11:30:00', 'high', '09-07-2025 10:59', 'FALSE'], ['9', 'Read a book', '07-09-2025', 'NA', 'moderate', '09-07-2025 11:06', 'FALSE']]\n"
     ]
    }
   ],
   "source": [
    "import csv\n",
    "\n",
    "f = open(\"tasks.csv\", mode=\"r\", newline=\"\")\n",
    "reader = csv.reader(f)\n",
    "tasklist, task = [], {}\n",
    "next(reader)\n",
    "\n",
    "print(list(reader))"
   ]
  },
  {
   "cell_type": "code",
   "execution_count": null,
   "id": "4e75f560",
   "metadata": {},
   "outputs": [],
   "source": [
    "for row in reader:  # Constructing a list of dictionaries from the file - tasklist\n",
    "    for (attr, element) in zip(ToDo_List.attributes, row):\n",
    "        task[attr] = element\n",
    "        \n",
    "    tasklist.append(task)\n",
    "    task = {}\n",
    "\n",
    "todo = ToDo_List(tasklist)\n",
    "todo.display_tasks()"
   ]
  },
  {
   "cell_type": "code",
   "execution_count": 11,
   "id": "4312bc81",
   "metadata": {},
   "outputs": [
    {
     "name": "stdout",
     "output_type": "stream",
     "text": [
      "[{'id': 2, 'title': 'Wash Clothes', 'due_date': datetime.date(2025, 7, 8), 'due_time': 'NA', 'priority': 'high', 'created_at': datetime.datetime(2025, 8, 7, 20, 41), 'completed': True}, {'id': 3, 'title': 'Exercise', 'due_date': datetime.date(2025, 7, 8), 'due_time': 'NA', 'priority': 'high', 'created_at': datetime.datetime(2025, 8, 7, 20, 42), 'completed': True}, {'id': 5, 'title': 'Complete ToDo List Project', 'due_date': datetime.date(2025, 7, 8), 'due_time': datetime.time(22, 0), 'priority': 'high', 'created_at': datetime.datetime(2025, 8, 7, 20, 43), 'completed': False}, {'id': 7, 'title': 'Go to bank for submitting cheque', 'due_date': datetime.date(2025, 9, 7), 'due_time': datetime.time(11, 30), 'priority': 'high', 'created_at': datetime.datetime(2025, 7, 9, 10, 59), 'completed': False}, {'id': 9, 'title': 'Read a book', 'due_date': datetime.date(2025, 9, 7), 'due_time': 'NA', 'priority': 'moderate', 'created_at': datetime.datetime(2025, 7, 9, 11, 6), 'completed': False}, {'id': 11, 'title': 'Go to bazaar', 'due_date': datetime.date(2025, 8, 7), 'due_time': 'NA', 'priority': 'high', 'created_at': datetime.datetime(2025, 9, 7, 16, 37), 'completed': False}, {'id': 12, 'title': 'Exercise', 'due_date': datetime.date(2025, 9, 7), 'due_time': datetime.time(19, 0), 'priority': 'high', 'created_at': datetime.datetime(2025, 9, 7, 17, 2), 'completed': False}, {'id': 13, 'title': 'Write diary', 'due_date': datetime.date(2025, 9, 7), 'due_time': datetime.time(23, 0), 'priority': 'moderate', 'created_at': datetime.datetime(2025, 9, 7, 17, 3), 'completed': False}, {'id': 14, 'title': 'Go to bazar', 'due_date': datetime.date(2025, 7, 10), 'due_time': 'NA', 'priority': 'high', 'created_at': datetime.datetime(2025, 7, 10, 12, 12, 11), 'completed': False}]\n",
      "<class 'pandas.core.frame.DataFrame'>\n",
      "RangeIndex: 9 entries, 0 to 8\n",
      "Data columns (total 7 columns):\n",
      " #   Column      Non-Null Count  Dtype         \n",
      "---  ------      --------------  -----         \n",
      " 0   id          9 non-null      int64         \n",
      " 1   title       9 non-null      object        \n",
      " 2   due_date    9 non-null      object        \n",
      " 3   due_time    9 non-null      object        \n",
      " 4   priority    9 non-null      object        \n",
      " 5   created_at  9 non-null      datetime64[ns]\n",
      " 6   completed   9 non-null      bool          \n",
      "dtypes: bool(1), datetime64[ns](1), int64(1), object(4)\n",
      "memory usage: 573.0+ bytes\n"
     ]
    }
   ],
   "source": [
    "tasklist = ToDo_List.csv_to_tasks(\"tasks.csv\")\n",
    "todo = ToDo_List(tasklist)\n",
    "print(todo.tasklist)\n",
    "df = pd.DataFrame(todo.tasklist)\n",
    "df.info()"
   ]
  },
  {
   "cell_type": "code",
   "execution_count": 1,
   "id": "9d821684",
   "metadata": {},
   "outputs": [
    {
     "data": {
      "text/plain": [
       "True"
      ]
     },
     "execution_count": 1,
     "metadata": {},
     "output_type": "execute_result"
    }
   ],
   "source": [
    "s = \"Arya\"\n",
    "\"Arya\" in s"
   ]
  },
  {
   "cell_type": "code",
   "execution_count": null,
   "id": "2b9bffd2",
   "metadata": {},
   "outputs": [],
   "source": []
  }
 ],
 "metadata": {
  "kernelspec": {
   "display_name": "Data_Analysis",
   "language": "python",
   "name": "python3"
  },
  "language_info": {
   "codemirror_mode": {
    "name": "ipython",
    "version": 3
   },
   "file_extension": ".py",
   "mimetype": "text/x-python",
   "name": "python",
   "nbconvert_exporter": "python",
   "pygments_lexer": "ipython3",
   "version": "3.12.3"
  }
 },
 "nbformat": 4,
 "nbformat_minor": 5
}
