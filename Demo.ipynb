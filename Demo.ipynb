{
 "cells": [
  {
   "cell_type": "code",
   "execution_count": 1,
   "id": "024da75d",
   "metadata": {},
   "outputs": [],
   "source": [
    "from datetime import datetime\n",
    "from typing import Dict, List, Literal, Any\n",
    "import pandas as pd\n",
    "from IPython.display import display"
   ]
  },
  {
   "cell_type": "code",
   "execution_count": 2,
   "id": "618be813",
   "metadata": {},
   "outputs": [],
   "source": [
    "class ToDo_List:\n",
    "    attributes = [\"id\", \"title\", \"due_date\", \"due_time\", \"created_at\", \"completed\"]\n",
    "\n",
    "    def __init__(self, tasklist: List[Dict] = []) -> None:\n",
    "        self.num_of_tasks = len(tasklist)\n",
    "        self.tasklist = tasklist\n",
    "    \n",
    "    @staticmethod\n",
    "    def task_to_str(task: Dict[str, Any]) -> str:\n",
    "        task_str = ''\n",
    "\n",
    "        for i in task:\n",
    "            attribute = i\n",
    "            val = task[i]\n",
    "            task_str += f\"{attribute}: {val}\\n\"\n",
    "\n",
    "        return task_str\n",
    "\n",
    "    def input_task(self) -> Dict[str, Any]:\n",
    "        title = input(\"Enter the task: \")\n",
    "        duedate = input(\"Enter due date (in DD/MM/YYYY format):\")\n",
    "        duetime = input(\"Enter due time if any, else leave blank (in 24 hr format: HH:MM): \")\n",
    "\n",
    "        self.num_of_tasks += 1\n",
    "        task_id =  self.num_of_tasks\n",
    "        due_date = datetime.strptime(duedate, \"%d/%m/%Y\").date()\n",
    "\n",
    "        if duetime == '':\n",
    "            due_time = 'NA'\n",
    "        else:\n",
    "            due_time = datetime.strptime(duetime, \"%H:%M\")\n",
    "        \n",
    "        created_at = datetime.now().strftime(\"%Y-%m-%d %H:%M\")\n",
    "        completed = False\n",
    "\n",
    "        values = [task_id, title, due_date, due_time, created_at, completed]\n",
    "        task = {attribute: value for (attribute, value) in zip(ToDo_List.attributes, values)}\n",
    "\n",
    "        return task\n",
    "\n",
    "    def add_task(self, task: Dict[str, Any]) -> str:\n",
    "        self.tasklist.append(task)\n",
    "        return ToDo_List.task_to_str(task)\n",
    "    \n",
    "    def display_tasks(self) -> None:\n",
    "        tasklist = pd.DataFrame(self.tasklist)\n",
    "        display(tasklist)\n",
    "\n",
    "    def modify_task(self, id: int, attribute: Literal[\"title\", \"due_date\", \"due_time\"], new_value) -> str:\n",
    "        self.tasklist[id-1][attribute] = new_value\n",
    "        task = self.tasklist[id-1]\n",
    "\n",
    "        return ToDo_List.task_to_str(task)\n",
    "    \n",
    "    def complete_task(self, id: int) -> str:\n",
    "        self.tasklist[id-1][\"completed\"] = True\n",
    "        task = self.tasklist[id-1]\n",
    "\n",
    "        return ToDo_List.task_to_str(task)\n",
    "    \n",
    "    def remove_task(self, id: int) -> str:\n",
    "        task = self.tasklist.pop(id-1)\n",
    "        return ToDo_List.task_to_str(task)\n"
   ]
  },
  {
   "cell_type": "code",
   "execution_count": 2,
   "id": "cf14bea7",
   "metadata": {},
   "outputs": [
    {
     "name": "stdout",
     "output_type": "stream",
     "text": [
      "\n",
      "True\n"
     ]
    }
   ],
   "source": [
    "task = input()\n",
    "print(task)\n",
    "print(task=='')"
   ]
  },
  {
   "cell_type": "code",
   "execution_count": 7,
   "id": "34520363",
   "metadata": {},
   "outputs": [
    {
     "name": "stdout",
     "output_type": "stream",
     "text": [
      "2025-02-12\n"
     ]
    }
   ],
   "source": [
    "date = input(\"Enter Date\")\n",
    "date = datetime.strptime(date, '%d/%m/%Y')\n",
    "print(date.date())"
   ]
  },
  {
   "cell_type": "code",
   "execution_count": 10,
   "id": "2341581c",
   "metadata": {},
   "outputs": [
    {
     "name": "stdout",
     "output_type": "stream",
     "text": [
      "14:30:00\n"
     ]
    }
   ],
   "source": [
    "time = input(\"Enter time: \")\n",
    "time = datetime.strptime(time, \"%H:%M\").time()\n",
    "print(time)"
   ]
  },
  {
   "cell_type": "code",
   "execution_count": 13,
   "id": "ed68b8bf",
   "metadata": {},
   "outputs": [
    {
     "name": "stdout",
     "output_type": "stream",
     "text": [
      "<class 'datetime.datetime'>\n",
      "<class 'str'>\n"
     ]
    }
   ],
   "source": [
    "print(type(datetime.now()))\n",
    "print(type(datetime.now().strftime(\"%Y-%m-%d %H:%M\")))"
   ]
  },
  {
   "cell_type": "code",
   "execution_count": 41,
   "id": "05fa4987",
   "metadata": {},
   "outputs": [
    {
     "data": {
      "application/vnd.microsoft.datawrangler.viewer.v0+json": {
       "columns": [
        {
         "name": "index",
         "rawType": "int64",
         "type": "integer"
        },
        {
         "name": "id",
         "rawType": "int64",
         "type": "integer"
        },
        {
         "name": "title",
         "rawType": "object",
         "type": "string"
        },
        {
         "name": "due_date",
         "rawType": "object",
         "type": "string"
        },
        {
         "name": "due_time",
         "rawType": "object",
         "type": "string"
        },
        {
         "name": "created_at",
         "rawType": "object",
         "type": "string"
        },
        {
         "name": "completed",
         "rawType": "bool",
         "type": "boolean"
        }
       ],
       "ref": "a6add45e-06b6-46fd-8b09-91461e16eb18",
       "rows": [
        [
         "0",
         "1",
         "Submit assignment",
         "2025-07-08",
         "23:59",
         "2025-07-06 22:20",
         "False"
        ],
        [
         "1",
         "2",
         "Team meeting",
         "2025-07-07",
         "14:00",
         "2025-07-06 22:20",
         "False"
        ],
        [
         "2",
         "3",
         "Buy groceries",
         "2025-07-06",
         "18:30",
         "2025-07-06 22:20",
         "True"
        ]
       ],
       "shape": {
        "columns": 6,
        "rows": 3
       }
      },
      "text/html": [
       "<div>\n",
       "<style scoped>\n",
       "    .dataframe tbody tr th:only-of-type {\n",
       "        vertical-align: middle;\n",
       "    }\n",
       "\n",
       "    .dataframe tbody tr th {\n",
       "        vertical-align: top;\n",
       "    }\n",
       "\n",
       "    .dataframe thead th {\n",
       "        text-align: right;\n",
       "    }\n",
       "</style>\n",
       "<table border=\"1\" class=\"dataframe\">\n",
       "  <thead>\n",
       "    <tr style=\"text-align: right;\">\n",
       "      <th></th>\n",
       "      <th>id</th>\n",
       "      <th>title</th>\n",
       "      <th>due_date</th>\n",
       "      <th>due_time</th>\n",
       "      <th>created_at</th>\n",
       "      <th>completed</th>\n",
       "    </tr>\n",
       "  </thead>\n",
       "  <tbody>\n",
       "    <tr>\n",
       "      <th>0</th>\n",
       "      <td>1</td>\n",
       "      <td>Submit assignment</td>\n",
       "      <td>2025-07-08</td>\n",
       "      <td>23:59</td>\n",
       "      <td>2025-07-06 22:20</td>\n",
       "      <td>False</td>\n",
       "    </tr>\n",
       "    <tr>\n",
       "      <th>1</th>\n",
       "      <td>2</td>\n",
       "      <td>Team meeting</td>\n",
       "      <td>2025-07-07</td>\n",
       "      <td>14:00</td>\n",
       "      <td>2025-07-06 22:20</td>\n",
       "      <td>False</td>\n",
       "    </tr>\n",
       "    <tr>\n",
       "      <th>2</th>\n",
       "      <td>3</td>\n",
       "      <td>Buy groceries</td>\n",
       "      <td>2025-07-06</td>\n",
       "      <td>18:30</td>\n",
       "      <td>2025-07-06 22:20</td>\n",
       "      <td>True</td>\n",
       "    </tr>\n",
       "  </tbody>\n",
       "</table>\n",
       "</div>"
      ],
      "text/plain": [
       "   id              title    due_date due_time        created_at  completed\n",
       "0   1  Submit assignment  2025-07-08    23:59  2025-07-06 22:20      False\n",
       "1   2       Team meeting  2025-07-07    14:00  2025-07-06 22:20      False\n",
       "2   3      Buy groceries  2025-07-06    18:30  2025-07-06 22:20       True"
      ]
     },
     "metadata": {},
     "output_type": "display_data"
    }
   ],
   "source": [
    "todolist = ToDo_List([\n",
    "    {\n",
    "        \"id\": 1,\n",
    "        \"title\": \"Submit assignment\",\n",
    "        \"due_date\": \"2025-07-08\",\n",
    "        \"due_time\": \"23:59\",\n",
    "        \"created_at\": datetime.now().strftime(\"%Y-%m-%d %H:%M\"),\n",
    "        \"completed\": False\n",
    "    },\n",
    "    {\n",
    "        \"id\": 2,\n",
    "        \"title\": \"Team meeting\",\n",
    "        \"due_date\": \"2025-07-07\",\n",
    "        \"due_time\": \"14:00\",\n",
    "        \"created_at\": datetime.now().strftime(\"%Y-%m-%d %H:%M\"),\n",
    "        \"completed\": False\n",
    "    },\n",
    "    {\n",
    "        \"id\": 3,\n",
    "        \"title\": \"Buy groceries\",\n",
    "        \"due_date\": \"2025-07-06\",\n",
    "        \"due_time\": \"18:30\",\n",
    "        \"created_at\": datetime.now().strftime(\"%Y-%m-%d %H:%M\"),\n",
    "        \"completed\": True\n",
    "    }\n",
    "])\n",
    "\n",
    "todolist.display_tasks()\n"
   ]
  },
  {
   "cell_type": "code",
   "execution_count": 4,
   "id": "6df18ca5",
   "metadata": {},
   "outputs": [
    {
     "name": "stdout",
     "output_type": "stream",
     "text": [
      "dict_keys(['id', 'title', 'due_date', 'due_time', 'created_at', 'completed'])\n",
      "{'due_date', 'title', 'created_at', 'completed', 'id', 'due_time'}\n"
     ]
    }
   ],
   "source": [
    "task = {\n",
    "    \"id\": 4,\n",
    "    \"title\": \"Finish project proposal\",\n",
    "    \"due_date\": \"2025-07-10\",\n",
    "    \"due_time\": \"17:00\",\n",
    "    \"created_at\": datetime.now().strftime(\"%Y-%m-%d %H:%M\"),\n",
    "    \"completed\": False\n",
    "}\n",
    "\n",
    "print(task.keys())\n",
    "print(set(task.keys()))"
   ]
  },
  {
   "cell_type": "code",
   "execution_count": 43,
   "id": "474bc31e",
   "metadata": {},
   "outputs": [
    {
     "data": {
      "application/vnd.microsoft.datawrangler.viewer.v0+json": {
       "columns": [
        {
         "name": "index",
         "rawType": "int64",
         "type": "integer"
        },
        {
         "name": "id",
         "rawType": "int64",
         "type": "integer"
        },
        {
         "name": "title",
         "rawType": "object",
         "type": "string"
        },
        {
         "name": "due_date",
         "rawType": "object",
         "type": "string"
        },
        {
         "name": "due_time",
         "rawType": "object",
         "type": "string"
        },
        {
         "name": "created_at",
         "rawType": "object",
         "type": "string"
        },
        {
         "name": "completed",
         "rawType": "bool",
         "type": "boolean"
        }
       ],
       "ref": "04661f94-4fec-435d-b0ac-15ef946bf466",
       "rows": [
        [
         "0",
         "1",
         "Submit assignment",
         "2025-07-08",
         "23:59",
         "2025-07-06 22:20",
         "False"
        ],
        [
         "1",
         "2",
         "Team meeting",
         "2025-07-07",
         "14:00",
         "2025-07-06 22:20",
         "False"
        ],
        [
         "2",
         "3",
         "Buy groceries",
         "2025-07-06",
         "18:30",
         "2025-07-06 22:20",
         "True"
        ],
        [
         "3",
         "4",
         "Finish project proposal",
         "2025-07-10",
         "17:00",
         "2025-07-06 22:20",
         "False"
        ]
       ],
       "shape": {
        "columns": 6,
        "rows": 4
       }
      },
      "text/html": [
       "<div>\n",
       "<style scoped>\n",
       "    .dataframe tbody tr th:only-of-type {\n",
       "        vertical-align: middle;\n",
       "    }\n",
       "\n",
       "    .dataframe tbody tr th {\n",
       "        vertical-align: top;\n",
       "    }\n",
       "\n",
       "    .dataframe thead th {\n",
       "        text-align: right;\n",
       "    }\n",
       "</style>\n",
       "<table border=\"1\" class=\"dataframe\">\n",
       "  <thead>\n",
       "    <tr style=\"text-align: right;\">\n",
       "      <th></th>\n",
       "      <th>id</th>\n",
       "      <th>title</th>\n",
       "      <th>due_date</th>\n",
       "      <th>due_time</th>\n",
       "      <th>created_at</th>\n",
       "      <th>completed</th>\n",
       "    </tr>\n",
       "  </thead>\n",
       "  <tbody>\n",
       "    <tr>\n",
       "      <th>0</th>\n",
       "      <td>1</td>\n",
       "      <td>Submit assignment</td>\n",
       "      <td>2025-07-08</td>\n",
       "      <td>23:59</td>\n",
       "      <td>2025-07-06 22:20</td>\n",
       "      <td>False</td>\n",
       "    </tr>\n",
       "    <tr>\n",
       "      <th>1</th>\n",
       "      <td>2</td>\n",
       "      <td>Team meeting</td>\n",
       "      <td>2025-07-07</td>\n",
       "      <td>14:00</td>\n",
       "      <td>2025-07-06 22:20</td>\n",
       "      <td>False</td>\n",
       "    </tr>\n",
       "    <tr>\n",
       "      <th>2</th>\n",
       "      <td>3</td>\n",
       "      <td>Buy groceries</td>\n",
       "      <td>2025-07-06</td>\n",
       "      <td>18:30</td>\n",
       "      <td>2025-07-06 22:20</td>\n",
       "      <td>True</td>\n",
       "    </tr>\n",
       "    <tr>\n",
       "      <th>3</th>\n",
       "      <td>4</td>\n",
       "      <td>Finish project proposal</td>\n",
       "      <td>2025-07-10</td>\n",
       "      <td>17:00</td>\n",
       "      <td>2025-07-06 22:20</td>\n",
       "      <td>False</td>\n",
       "    </tr>\n",
       "  </tbody>\n",
       "</table>\n",
       "</div>"
      ],
      "text/plain": [
       "   id                    title    due_date due_time        created_at  \\\n",
       "0   1        Submit assignment  2025-07-08    23:59  2025-07-06 22:20   \n",
       "1   2             Team meeting  2025-07-07    14:00  2025-07-06 22:20   \n",
       "2   3            Buy groceries  2025-07-06    18:30  2025-07-06 22:20   \n",
       "3   4  Finish project proposal  2025-07-10    17:00  2025-07-06 22:20   \n",
       "\n",
       "   completed  \n",
       "0      False  \n",
       "1      False  \n",
       "2       True  \n",
       "3      False  "
      ]
     },
     "metadata": {},
     "output_type": "display_data"
    }
   ],
   "source": [
    "todolist.display_tasks()"
   ]
  },
  {
   "cell_type": "code",
   "execution_count": 6,
   "id": "e9c6f271",
   "metadata": {},
   "outputs": [
    {
     "data": {
      "application/vnd.microsoft.datawrangler.viewer.v0+json": {
       "columns": [
        {
         "name": "index",
         "rawType": "int64",
         "type": "integer"
        },
        {
         "name": "Name",
         "rawType": "object",
         "type": "string"
        },
        {
         "name": "Age",
         "rawType": "int64",
         "type": "integer"
        }
       ],
       "ref": "09510b57-2d90-4dbb-b8ac-e006e5249363",
       "rows": [
        [
         "0",
         "Arya",
         "30"
        ],
        [
         "1",
         "Srabanti",
         "45"
        ]
       ],
       "shape": {
        "columns": 2,
        "rows": 2
       }
      },
      "text/html": [
       "<div>\n",
       "<style scoped>\n",
       "    .dataframe tbody tr th:only-of-type {\n",
       "        vertical-align: middle;\n",
       "    }\n",
       "\n",
       "    .dataframe tbody tr th {\n",
       "        vertical-align: top;\n",
       "    }\n",
       "\n",
       "    .dataframe thead th {\n",
       "        text-align: right;\n",
       "    }\n",
       "</style>\n",
       "<table border=\"1\" class=\"dataframe\">\n",
       "  <thead>\n",
       "    <tr style=\"text-align: right;\">\n",
       "      <th></th>\n",
       "      <th>Name</th>\n",
       "      <th>Age</th>\n",
       "    </tr>\n",
       "  </thead>\n",
       "  <tbody>\n",
       "    <tr>\n",
       "      <th>0</th>\n",
       "      <td>Arya</td>\n",
       "      <td>30</td>\n",
       "    </tr>\n",
       "    <tr>\n",
       "      <th>1</th>\n",
       "      <td>Srabanti</td>\n",
       "      <td>45</td>\n",
       "    </tr>\n",
       "  </tbody>\n",
       "</table>\n",
       "</div>"
      ],
      "text/plain": [
       "       Name  Age\n",
       "0      Arya   30\n",
       "1  Srabanti   45"
      ]
     },
     "execution_count": 6,
     "metadata": {},
     "output_type": "execute_result"
    }
   ],
   "source": [
    "df = pd.DataFrame({\"Name\": [\"Arya\", \"Srabanti\"],\n",
    "                  \"Age\": [30, 45]})\n",
    "df"
   ]
  },
  {
   "cell_type": "code",
   "execution_count": 8,
   "id": "80787dd9",
   "metadata": {},
   "outputs": [
    {
     "name": "stdout",
     "output_type": "stream",
     "text": [
      "0        Arya\n",
      "1    Srabanti\n",
      "Name: Name, dtype: object\n",
      "0    30\n",
      "1    45\n",
      "Name: Age, dtype: int64\n"
     ]
    }
   ],
   "source": [
    "for i in df:\n",
    "    print(df[i])"
   ]
  },
  {
   "cell_type": "code",
   "execution_count": null,
   "id": "4d129218",
   "metadata": {},
   "outputs": [],
   "source": []
  }
 ],
 "metadata": {
  "kernelspec": {
   "display_name": "Data_Analysis",
   "language": "python",
   "name": "python3"
  },
  "language_info": {
   "codemirror_mode": {
    "name": "ipython",
    "version": 3
   },
   "file_extension": ".py",
   "mimetype": "text/x-python",
   "name": "python",
   "nbconvert_exporter": "python",
   "pygments_lexer": "ipython3",
   "version": "3.12.3"
  }
 },
 "nbformat": 4,
 "nbformat_minor": 5
}
